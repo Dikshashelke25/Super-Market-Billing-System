{
 "cells": [
  {
   "cell_type": "markdown",
   "id": "52ddfe1f-95a5-4bbe-a1cf-c310f5b3e91b",
   "metadata": {},
   "source": [
    "**Super Market Billing System :**"
   ]
  },
  {
   "cell_type": "code",
   "execution_count": 2,
   "id": "813e8249-9f25-4b83-a604-4f5e4109197f",
   "metadata": {},
   "outputs": [],
   "source": [
    "products = {\n",
    "    \"Rice\": 60,\n",
    "    \"Wheat\": 45,\n",
    "    \"Oil\": 120,\n",
    "    \"Milk\": 50,\n",
    "    \"Eggs\": 6,\n",
    "    \"Bread\": 30,\n",
    "    \"Butter\": 80,\n",
    "    \"Cheese\": 90,\n",
    "    \"Yogurt\": 40,\n",
    "    \"Shampoo\": 100,\n",
    "    \"Toothpaste\": 50,\n",
    "    \"Detergent\": 150,\n",
    "    \"Dish Soap\": 40,\n",
    "    \"Chocolate\": 70,\n",
    "    \"Soda\": 50,\n",
    "    \"Chips\": 30,\n",
    "    \"Coffee\": 100,\n",
    "    \"Tea\": 90,\n",
    "    \"Sugar\": 60,\n",
    "    \"Salt\": 20,\n",
    "    \"Pepper\": 30,\n",
    "    \"Juice\": 50,\n",
    "    \"Cookies\": 40,\n",
    "}\n"
   ]
  },
  {
   "cell_type": "code",
   "execution_count": 4,
   "id": "12130413-5c8e-475d-b149-6c03e895d854",
   "metadata": {},
   "outputs": [
    {
     "name": "stdin",
     "output_type": "stream",
     "text": [
      "Enter your name:  Diksha\n",
      "Enter your 10-digit mobile number:  8080908080\n"
     ]
    },
    {
     "name": "stdout",
     "output_type": "stream",
     "text": [
      "------------------------------------------------------------\n",
      "Available Products:\n",
      "Rice                 - ₹    60\n",
      "Wheat                - ₹    45\n",
      "Oil                  - ₹   120\n",
      "Milk                 - ₹    50\n",
      "Eggs                 - ₹     6\n",
      "Bread                - ₹    30\n",
      "Butter               - ₹    80\n",
      "Cheese               - ₹    90\n",
      "Yogurt               - ₹    40\n",
      "Shampoo              - ₹   100\n",
      "Toothpaste           - ₹    50\n",
      "Detergent            - ₹   150\n",
      "Dish Soap            - ₹    40\n",
      "Chocolate            - ₹    70\n",
      "Soda                 - ₹    50\n",
      "Chips                - ₹    30\n",
      "Coffee               - ₹   100\n",
      "Tea                  - ₹    90\n",
      "Sugar                - ₹    60\n",
      "Salt                 - ₹    20\n",
      "Pepper               - ₹    30\n",
      "Juice                - ₹    50\n",
      "Cookies              - ₹    40\n",
      "------------------------------------------------------------\n"
     ]
    },
    {
     "name": "stdin",
     "output_type": "stream",
     "text": [
      "Enter product name:  Rice\n",
      "Enter quantity:  5\n",
      "Add more items? (yes/no):  yes\n",
      "Enter product name:  Egg\n"
     ]
    },
    {
     "name": "stdout",
     "output_type": "stream",
     "text": [
      "Product not found. Please check the spelling.\n"
     ]
    },
    {
     "name": "stdin",
     "output_type": "stream",
     "text": [
      "Enter product name:  eggs\n",
      "Enter quantity:  12\n",
      "Add more items? (yes/no):  yes\n",
      "Enter product name:  salt\n",
      "Enter quantity:  1\n",
      "Add more items? (yes/no):  yes\n",
      "Enter product name:  sugar\n",
      "Enter quantity:  7\n",
      "Add more items? (yes/no):  y\n",
      "Enter product name:  cookies\n",
      "Enter quantity:  2\n",
      "Add more items? (yes/no):  n\n"
     ]
    },
    {
     "name": "stdout",
     "output_type": "stream",
     "text": [
      "\n",
      "------------------------------------------------------------\n",
      "                        GROCERY MART                        \n",
      "              Date: 02-07-2025  Time: 15:43:21              \n",
      "             Kothrud, Pune | Phone: 123-456-789             \n",
      "------------------------------------------------------------\n",
      "Customer: Diksha | Mobile: 8080908080\n",
      "------------------------------------------------------------\n",
      "Item           Qty       Rate      Total     \n",
      "------------------------------------------------------------\n",
      "Rice           5.0       60        300.0     \n",
      "Eggs           12.0      6         72.0      \n",
      "Salt           1.0       20        20.0      \n",
      "Sugar          7.0       60        420.0     \n",
      "Cookies        2.0       40        80.0      \n",
      "------------------------------------------------------------\n",
      "Total                               ₹892.00\n",
      "Discount                            7% OFF\n",
      "Final Amount                        ₹829.56\n",
      "------------------------------------------------------------\n",
      "              Thank you for shopping with us!               \n",
      "------------------------------------------------------------\n",
      "\n"
     ]
    },
    {
     "name": "stdin",
     "output_type": "stream",
     "text": [
      "Next customer? (yes/no):  n\n"
     ]
    }
   ],
   "source": [
    "from datetime import datetime\n",
    "\n",
    "def get_customer_details():\n",
    "    name = input(\"Enter your name: \")\n",
    "    while True:\n",
    "        mob_no = input(\"Enter your 10-digit mobile number: \")\n",
    "        if mob_no.isdigit() and len(mob_no) == 10:\n",
    "            return name, mob_no\n",
    "        else:\n",
    "            print(\"Invalid mobile number. Please try again.\")\n",
    "\n",
    "def display_products():\n",
    "    print(\"-\" * 60)\n",
    "    print(\"Available Products:\")\n",
    "    for item, price in products.items():\n",
    "        print(f\"{item:<20} - ₹{price:>6}\")\n",
    "    print(\"-\" * 60)\n",
    "\n",
    "def get_discount(amount):\n",
    "    if amount <= 500:\n",
    "        return 0.05\n",
    "    elif amount <= 1000:\n",
    "        return 0.07\n",
    "    elif amount <= 5000:\n",
    "        return 0.15\n",
    "    else:\n",
    "        return 0.20\n",
    "\n",
    "def print_bill(name, mob_no, cart, total, discount):\n",
    "    now = datetime.now()\n",
    "    final_amount = total - (total * discount)\n",
    "    print(\"\\n\" + \"-\" * 60)\n",
    "    print(\"GROCERY MART\".center(60))\n",
    "    print(f\"Date: {now.strftime('%d-%m-%Y')}  Time: {now.strftime('%H:%M:%S')}\".center(60))\n",
    "    print(\"Kothrud, Pune | Phone: 123-456-789\".center(60))\n",
    "    print(\"-\" * 60)\n",
    "    print(f\"Customer: {name} | Mobile: {mob_no}\")\n",
    "    print(\"-\" * 60)\n",
    "    print(f\"{'Item':<15}{'Qty':<10}{'Rate':<10}{'Total':<10}\")\n",
    "    print(\"-\" * 60)\n",
    "    for item, (rate, qty) in cart.items():\n",
    "        item_total = rate * qty\n",
    "        print(f\"{item:<15}{qty:<10}{rate:<10}{item_total:<10}\")\n",
    "    print(\"-\" * 60)\n",
    "    print(f\"{'Total':<35} ₹{total:.2f}\")\n",
    "    print(f\"{'Discount':<35} {discount*100:.0f}% OFF\")\n",
    "    print(f\"{'Final Amount':<35} ₹{final_amount:.2f}\")\n",
    "    print(\"-\" * 60)\n",
    "    print(\"Thank you for shopping with us!\".center(60))\n",
    "    print(\"-\" * 60 + \"\\n\")\n",
    "\n",
    "# Main loop\n",
    "while True:\n",
    "    cart = {}\n",
    "    total = 0\n",
    "    name, mob_no = get_customer_details()\n",
    "    display_products()\n",
    "\n",
    "    while True:\n",
    "        try:\n",
    "            prod_name = input(\"Enter product name: \").title()\n",
    "            if prod_name not in products:\n",
    "                print(\"Product not found. Please check the spelling.\")\n",
    "                continue\n",
    "            \n",
    "            qty = float(input(\"Enter quantity: \"))\n",
    "            if qty <= 0:\n",
    "                print(\"Quantity must be positive.\")\n",
    "                continue\n",
    "        except ValueError:\n",
    "            print(\"Invalid quantity. Please enter a number.\")\n",
    "            continue\n",
    "\n",
    "\n",
    "        if prod_name in cart:\n",
    "            cart[prod_name][1] += qty\n",
    "        else:\n",
    "            cart[prod_name] = [products[prod_name], qty]\n",
    "\n",
    "        more = input(\"Add more items? (yes/no): \").lower()\n",
    "        if more not in ['yes', 'y']:\n",
    "            break\n",
    "\n",
    "    for item, (rate, qty) in cart.items():\n",
    "        total += rate * qty\n",
    "\n",
    "    discount = get_discount(total)\n",
    "    print_bill(name, mob_no, cart, total, discount)\n",
    "\n",
    "    next_customer = input(\"Next customer? (yes/no): \").lower()\n",
    "    if next_customer in ['no', 'n']:\n",
    "        break"
   ]
  },
  {
   "cell_type": "code",
   "execution_count": null,
   "id": "9aa2ce31-fd26-497f-90ad-e41672a2ac30",
   "metadata": {},
   "outputs": [],
   "source": []
  }
 ],
 "metadata": {
  "kernelspec": {
   "display_name": "Python 3 (ipykernel)",
   "language": "python",
   "name": "python3"
  },
  "language_info": {
   "codemirror_mode": {
    "name": "ipython",
    "version": 3
   },
   "file_extension": ".py",
   "mimetype": "text/x-python",
   "name": "python",
   "nbconvert_exporter": "python",
   "pygments_lexer": "ipython3",
   "version": "3.13.5"
  }
 },
 "nbformat": 4,
 "nbformat_minor": 5
}
